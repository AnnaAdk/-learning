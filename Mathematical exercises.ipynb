{
 "cells": [
  {
   "cell_type": "code",
   "execution_count": 2,
   "metadata": {},
   "outputs": [
    {
     "name": "stdout",
     "output_type": "stream",
     "text": [
      "1 . Random integers are 7\n",
      "2 . Random integers are 5\n",
      "3 . Random integers are 5\n",
      "4 . Random integers are 4\n",
      "5 . Random integers are 6\n",
      "6 . Random integers are 7\n",
      "7 . Random integers are 5\n",
      "8 . Random integers are 6\n",
      "9 . Random integers are 6\n",
      "10 . Random integers are 6\n",
      "11 . Random integers are 4\n",
      "12 . Random integers are 4\n",
      "13 . Random integers are 3\n",
      "14 . Random integers are 3\n",
      "15 . Random integers are 7\n",
      "16 . Random integers are 4\n",
      "17 . Random integers are 7\n",
      "18 . Random integers are 5\n",
      "19 . Random integers are 4\n",
      "20 . Random integers are 6\n",
      "21 . Random integers are 5\n",
      "22 . Random integers are 5\n",
      "23 . Random integers are 7\n",
      "24 . Random integers are 4\n",
      "25 . Random integers are 4\n",
      "26 . Random integers are 6\n",
      "27 . Random integers are 7\n",
      "28 . Random integers are 4\n",
      "29 . Random integers are 6\n",
      "30 . Random integers are 6\n",
      "31 . Random integers are 6\n",
      "32 . Random integers are 7\n",
      "33 . Random integers are 5\n",
      "34 . Random integers are 3\n",
      "35 . Random integers are 3\n",
      "36 . Random integers are 4\n",
      "37 . Random integers are 3\n",
      "38 . Random integers are 6\n",
      "39 . Random integers are 5\n",
      "40 . Random integers are 4\n",
      "41 . Random integers are 7\n",
      "42 . Random integers are 4\n",
      "43 . Random integers are 7\n",
      "44 . Random integers are 5\n",
      "45 . Random integers are 4\n",
      "46 . Random integers are 3\n",
      "47 . Random integers are 5\n",
      "48 . Random integers are 5\n",
      "49 . Random integers are 6\n",
      "50 . Random integers are 5\n"
     ]
    }
   ],
   "source": [
    "from random import randint\n",
    "\n",
    "for i in range (50):\n",
    "    x = randint(3,7)\n",
    "    print (i+1 , \". Random integers are\", x)\n"
   ]
  },
  {
   "cell_type": "code",
   "execution_count": 3,
   "metadata": {},
   "outputs": [
    {
     "name": "stdout",
     "output_type": "stream",
     "text": [
      "The value is  923521\n"
     ]
    }
   ],
   "source": [
    "from random import randint\n",
    "x = randint (1,50)\n",
    "y = randint (2,5)\n",
    "print ('The value is ', x**y)"
   ]
  },
  {
   "cell_type": "code",
   "execution_count": 4,
   "metadata": {},
   "outputs": [
    {
     "name": "stdout",
     "output_type": "stream",
     "text": [
      "Dodo Dodo Dodo \n"
     ]
    }
   ],
   "source": [
    "from random import randint\n",
    "z = randint (1,10)\n",
    "print ('Dodo '*z)"
   ]
  },
  {
   "cell_type": "code",
   "execution_count": 5,
   "metadata": {},
   "outputs": [
    {
     "name": "stdout",
     "output_type": "stream",
     "text": [
      "6.58\n"
     ]
    }
   ],
   "source": [
    "from random import randint\n",
    "x = randint (100,1000)\n",
    "a = x/100\n",
    "print (a)\n"
   ]
  },
  {
   "cell_type": "code",
   "execution_count": 6,
   "metadata": {},
   "outputs": [
    {
     "name": "stdout",
     "output_type": "stream",
     "text": [
      "The random integer form 1 to  3 is:  1\n",
      "The random integer form 1 to  4 is:  4\n",
      "The random integer form 1 to  5 is:  5\n",
      "The random integer form 1 to  6 is:  5\n",
      "The random integer form 1 to  7 is:  5\n",
      "The random integer form 1 to  8 is:  7\n",
      "The random integer form 1 to  9 is:  3\n",
      "The random integer form 1 to  10 is:  2\n",
      "The random integer form 1 to  11 is:  8\n",
      "The random integer form 1 to  12 is:  10\n",
      "The random integer form 1 to  13 is:  4\n",
      "The random integer form 1 to  14 is:  8\n",
      "The random integer form 1 to  15 is:  3\n",
      "The random integer form 1 to  16 is:  13\n",
      "The random integer form 1 to  17 is:  8\n",
      "The random integer form 1 to  18 is:  9\n",
      "The random integer form 1 to  19 is:  12\n",
      "The random integer form 1 to  20 is:  10\n",
      "The random integer form 1 to  21 is:  13\n",
      "The random integer form 1 to  22 is:  11\n",
      "The random integer form 1 to  23 is:  19\n",
      "The random integer form 1 to  24 is:  18\n",
      "The random integer form 1 to  25 is:  18\n",
      "The random integer form 1 to  26 is:  5\n",
      "The random integer form 1 to  27 is:  14\n",
      "The random integer form 1 to  28 is:  16\n",
      "The random integer form 1 to  29 is:  6\n",
      "The random integer form 1 to  30 is:  12\n",
      "The random integer form 1 to  31 is:  8\n",
      "The random integer form 1 to  32 is:  23\n",
      "The random integer form 1 to  33 is:  9\n",
      "The random integer form 1 to  34 is:  14\n",
      "The random integer form 1 to  35 is:  19\n",
      "The random integer form 1 to  36 is:  16\n",
      "The random integer form 1 to  37 is:  34\n",
      "The random integer form 1 to  38 is:  29\n",
      "The random integer form 1 to  39 is:  23\n",
      "The random integer form 1 to  40 is:  10\n",
      "The random integer form 1 to  41 is:  3\n",
      "The random integer form 1 to  42 is:  27\n",
      "The random integer form 1 to  43 is:  20\n",
      "The random integer form 1 to  44 is:  12\n",
      "The random integer form 1 to  45 is:  23\n",
      "The random integer form 1 to  46 is:  32\n",
      "The random integer form 1 to  47 is:  12\n",
      "The random integer form 1 to  48 is:  48\n",
      "The random integer form 1 to  49 is:  3\n",
      "The random integer form 1 to  50 is:  12\n",
      "The random integer form 1 to  51 is:  35\n"
     ]
    }
   ],
   "source": [
    "from random import randint\n",
    "for i in range (3,52):\n",
    "    x = randint (1, i)\n",
    "    print (\"The random integer form 1 to \", i , 'is: ', x)"
   ]
  },
  {
   "cell_type": "code",
   "execution_count": 7,
   "metadata": {},
   "outputs": [
    {
     "name": "stdout",
     "output_type": "stream",
     "text": [
      "Please enter a number: 8\n",
      "Please enter a number: 9\n",
      "0.058823529411764705\n"
     ]
    }
   ],
   "source": [
    "x = eval (input('Please enter a number: ')) \n",
    "y = eval (input('Please enter a number: ')) \n",
    "print (abs(x-y)/(x+y))"
   ]
  },
  {
   "cell_type": "code",
   "execution_count": 8,
   "metadata": {},
   "outputs": [
    {
     "name": "stdout",
     "output_type": "stream",
     "text": [
      "Please enter an angle between -180 and 180 degrees: -70\n",
      "The angle is  290  degrees.\n"
     ]
    }
   ],
   "source": [
    "ang = eval (input(\"Please enter an angle between -180 and 180 degrees: \"))\n",
    "if ang <  0:\n",
    "    ang = ang % 180 + 180\n",
    "\n",
    "else:\n",
    "    ang = ang\n",
    "print (\"The angle is \", ang, \" degrees.\")\n"
   ]
  },
  {
   "cell_type": "code",
   "execution_count": 9,
   "metadata": {},
   "outputs": [
    {
     "name": "stdout",
     "output_type": "stream",
     "text": [
      "Please enter the total amount of seconds: 200\n",
      "The time is  3  minutes and  20 seconds.\n"
     ]
    }
   ],
   "source": [
    "time = eval (input (\"Please enter the total amount of seconds: \"))\n",
    "print (\"The time is \", time//60, \" minutes and \", time%60, \"seconds.\")"
   ]
  },
  {
   "cell_type": "code",
   "execution_count": 10,
   "metadata": {},
   "outputs": [
    {
     "name": "stdout",
     "output_type": "stream",
     "text": [
      "Enter hour: 8\n",
      "How many hours would you like to go ahead? 5\n",
      "The new time is: 1  o'clock\n"
     ]
    }
   ],
   "source": [
    "hour = eval(input (\"Enter hour: \"))\n",
    "ahead = eval (input (\"How many hours would you like to go ahead? \"))\n",
    "total = (hour + ahead)%12\n",
    "if total == 0:\n",
    "    timeahd = 12\n",
    "else:\n",
    "    timeahd = total\n",
    "print ('The new time is:', timeahd, \" o'clock\")\n"
   ]
  },
  {
   "cell_type": "code",
   "execution_count": 11,
   "metadata": {},
   "outputs": [
    {
     "name": "stdout",
     "output_type": "stream",
     "text": [
      "Enter a number: 5\n",
      "The value of 2 raised to the power of the given number is:  32\n",
      "The last one digit of the number is:  2\n"
     ]
    }
   ],
   "source": [
    "e = eval ( input (\"Enter a number: \"))\n",
    "f = 2**e\n",
    "print (\"The value of 2 raised to the power of the given number is: \", f)\n",
    "print (\"The last one digit of the number is: \", f%10 )\n",
    "\n",
    "    "
   ]
  },
  {
   "cell_type": "code",
   "execution_count": 12,
   "metadata": {},
   "outputs": [
    {
     "name": "stdout",
     "output_type": "stream",
     "text": [
      "Enter a number: 89\n",
      "The value of 2 raised to the power of the given number is:  618970019642690137449562112\n",
      "The last two digits of the number are:  12\n"
     ]
    }
   ],
   "source": [
    "e = eval ( input (\"Enter a number: \"))\n",
    "f = 2**e\n",
    "print (\"The value of 2 raised to the power of the given number is: \", f)\n",
    "print (\"The last two digits of the number are: \", f%100 )"
   ]
  },
  {
   "cell_type": "code",
   "execution_count": 13,
   "metadata": {},
   "outputs": [
    {
     "name": "stdout",
     "output_type": "stream",
     "text": [
      "Enter a number: 500\n",
      "Enter the number of digits you want to be diplayed: 24\n",
      "The value of 2 raised to the power of the given number is:  3273390607896141870013189696827599152216642046043064789483291368096133796404674554883270092325904157150886684127560071009217256545885393053328527589376\n",
      "The last  24  digits of the number are:  545885393053328527589376\n"
     ]
    }
   ],
   "source": [
    "e = eval ( input (\"Enter a number: \"))\n",
    "g = eval (input (\"Enter the number of digits you want to be diplayed: \"))\n",
    "f = 2**e\n",
    "h = 10**g\n",
    "print (\"The value of 2 raised to the power of the given number is: \", f)\n",
    "print (\"The last \", g, \" digits of the number are: \", f%h )"
   ]
  },
  {
   "cell_type": "code",
   "execution_count": 14,
   "metadata": {},
   "outputs": [
    {
     "name": "stdout",
     "output_type": "stream",
     "text": [
      "Please enter your weight in kilograms: 56\n",
      "The weight in pound roundded to the last digit is:  123.2\n"
     ]
    }
   ],
   "source": [
    "weight = eval (input (\"Please enter your weight in kilograms: \"))\n",
    "weightp = weight * 2.2\n",
    "print (\"The weight in pound roundded to the last digit is: \", round(weightp, 1))"
   ]
  },
  {
   "cell_type": "code",
   "execution_count": 15,
   "metadata": {},
   "outputs": [
    {
     "name": "stdout",
     "output_type": "stream",
     "text": [
      "Please enter the number that you want the factorial of: 10\n",
      "3628800\n"
     ]
    }
   ],
   "source": [
    "from math import factorial\n",
    "fac = eval (input (\"Please enter the number that you want the factorial of: \" ))\n",
    "fac = factorial(fac)\n",
    "print (fac)"
   ]
  },
  {
   "cell_type": "code",
   "execution_count": 16,
   "metadata": {},
   "outputs": [
    {
     "name": "stdout",
     "output_type": "stream",
     "text": [
      "Help on built-in module math:\n",
      "\n",
      "NAME\n",
      "    math\n",
      "\n",
      "DESCRIPTION\n",
      "    This module provides access to the mathematical functions\n",
      "    defined by the C standard.\n",
      "\n",
      "FUNCTIONS\n",
      "    acos(x, /)\n",
      "        Return the arc cosine (measured in radians) of x.\n",
      "    \n",
      "    acosh(x, /)\n",
      "        Return the inverse hyperbolic cosine of x.\n",
      "    \n",
      "    asin(x, /)\n",
      "        Return the arc sine (measured in radians) of x.\n",
      "    \n",
      "    asinh(x, /)\n",
      "        Return the inverse hyperbolic sine of x.\n",
      "    \n",
      "    atan(x, /)\n",
      "        Return the arc tangent (measured in radians) of x.\n",
      "    \n",
      "    atan2(y, x, /)\n",
      "        Return the arc tangent (measured in radians) of y/x.\n",
      "        \n",
      "        Unlike atan(y/x), the signs of both x and y are considered.\n",
      "    \n",
      "    atanh(x, /)\n",
      "        Return the inverse hyperbolic tangent of x.\n",
      "    \n",
      "    ceil(x, /)\n",
      "        Return the ceiling of x as an Integral.\n",
      "        \n",
      "        This is the smallest integer >= x.\n",
      "    \n",
      "    copysign(x, y, /)\n",
      "        Return a float with the magnitude (absolute value) of x but the sign of y.\n",
      "        \n",
      "        On platforms that support signed zeros, copysign(1.0, -0.0)\n",
      "        returns -1.0.\n",
      "    \n",
      "    cos(x, /)\n",
      "        Return the cosine of x (measured in radians).\n",
      "    \n",
      "    cosh(x, /)\n",
      "        Return the hyperbolic cosine of x.\n",
      "    \n",
      "    degrees(x, /)\n",
      "        Convert angle x from radians to degrees.\n",
      "    \n",
      "    erf(x, /)\n",
      "        Error function at x.\n",
      "    \n",
      "    erfc(x, /)\n",
      "        Complementary error function at x.\n",
      "    \n",
      "    exp(x, /)\n",
      "        Return e raised to the power of x.\n",
      "    \n",
      "    expm1(x, /)\n",
      "        Return exp(x)-1.\n",
      "        \n",
      "        This function avoids the loss of precision involved in the direct evaluation of exp(x)-1 for small x.\n",
      "    \n",
      "    fabs(x, /)\n",
      "        Return the absolute value of the float x.\n",
      "    \n",
      "    factorial(x, /)\n",
      "        Find x!.\n",
      "        \n",
      "        Raise a ValueError if x is negative or non-integral.\n",
      "    \n",
      "    floor(x, /)\n",
      "        Return the floor of x as an Integral.\n",
      "        \n",
      "        This is the largest integer <= x.\n",
      "    \n",
      "    fmod(x, y, /)\n",
      "        Return fmod(x, y), according to platform C.\n",
      "        \n",
      "        x % y may differ.\n",
      "    \n",
      "    frexp(x, /)\n",
      "        Return the mantissa and exponent of x, as pair (m, e).\n",
      "        \n",
      "        m is a float and e is an int, such that x = m * 2.**e.\n",
      "        If x is 0, m and e are both 0.  Else 0.5 <= abs(m) < 1.0.\n",
      "    \n",
      "    fsum(seq, /)\n",
      "        Return an accurate floating point sum of values in the iterable seq.\n",
      "        \n",
      "        Assumes IEEE-754 floating point arithmetic.\n",
      "    \n",
      "    gamma(x, /)\n",
      "        Gamma function at x.\n",
      "    \n",
      "    gcd(x, y, /)\n",
      "        greatest common divisor of x and y\n",
      "    \n",
      "    hypot(x, y, /)\n",
      "        Return the Euclidean distance, sqrt(x*x + y*y).\n",
      "    \n",
      "    isclose(a, b, *, rel_tol=1e-09, abs_tol=0.0)\n",
      "        Determine whether two floating point numbers are close in value.\n",
      "        \n",
      "          rel_tol\n",
      "            maximum difference for being considered \"close\", relative to the\n",
      "            magnitude of the input values\n",
      "          abs_tol\n",
      "            maximum difference for being considered \"close\", regardless of the\n",
      "            magnitude of the input values\n",
      "        \n",
      "        Return True if a is close in value to b, and False otherwise.\n",
      "        \n",
      "        For the values to be considered close, the difference between them\n",
      "        must be smaller than at least one of the tolerances.\n",
      "        \n",
      "        -inf, inf and NaN behave similarly to the IEEE 754 Standard.  That\n",
      "        is, NaN is not close to anything, even itself.  inf and -inf are\n",
      "        only close to themselves.\n",
      "    \n",
      "    isfinite(x, /)\n",
      "        Return True if x is neither an infinity nor a NaN, and False otherwise.\n",
      "    \n",
      "    isinf(x, /)\n",
      "        Return True if x is a positive or negative infinity, and False otherwise.\n",
      "    \n",
      "    isnan(x, /)\n",
      "        Return True if x is a NaN (not a number), and False otherwise.\n",
      "    \n",
      "    ldexp(x, i, /)\n",
      "        Return x * (2**i).\n",
      "        \n",
      "        This is essentially the inverse of frexp().\n",
      "    \n",
      "    lgamma(x, /)\n",
      "        Natural logarithm of absolute value of Gamma function at x.\n",
      "    \n",
      "    log(...)\n",
      "        log(x, [base=math.e])\n",
      "        Return the logarithm of x to the given base.\n",
      "        \n",
      "        If the base not specified, returns the natural logarithm (base e) of x.\n",
      "    \n",
      "    log10(x, /)\n",
      "        Return the base 10 logarithm of x.\n",
      "    \n",
      "    log1p(x, /)\n",
      "        Return the natural logarithm of 1+x (base e).\n",
      "        \n",
      "        The result is computed in a way which is accurate for x near zero.\n",
      "    \n",
      "    log2(x, /)\n",
      "        Return the base 2 logarithm of x.\n",
      "    \n",
      "    modf(x, /)\n",
      "        Return the fractional and integer parts of x.\n",
      "        \n",
      "        Both results carry the sign of x and are floats.\n",
      "    \n",
      "    pow(x, y, /)\n",
      "        Return x**y (x to the power of y).\n",
      "    \n",
      "    radians(x, /)\n",
      "        Convert angle x from degrees to radians.\n",
      "    \n",
      "    remainder(x, y, /)\n",
      "        Difference between x and the closest integer multiple of y.\n",
      "        \n",
      "        Return x - n*y where n*y is the closest integer multiple of y.\n",
      "        In the case where x is exactly halfway between two multiples of\n",
      "        y, the nearest even value of n is used. The result is always exact.\n",
      "    \n",
      "    sin(x, /)\n",
      "        Return the sine of x (measured in radians).\n",
      "    \n",
      "    sinh(x, /)\n",
      "        Return the hyperbolic sine of x.\n",
      "    \n",
      "    sqrt(x, /)\n",
      "        Return the square root of x.\n",
      "    \n",
      "    tan(x, /)\n",
      "        Return the tangent of x (measured in radians).\n",
      "    \n",
      "    tanh(x, /)\n",
      "        Return the hyperbolic tangent of x.\n",
      "    \n",
      "    trunc(x, /)\n",
      "        Truncates the Real x to the nearest Integral toward 0.\n",
      "        \n",
      "        Uses the __trunc__ magic method.\n",
      "\n",
      "DATA\n",
      "    e = 2.718281828459045\n",
      "    inf = inf\n",
      "    nan = nan\n",
      "    pi = 3.141592653589793\n",
      "    tau = 6.283185307179586\n",
      "\n",
      "FILE\n",
      "    (built-in)\n",
      "\n",
      "\n"
     ]
    }
   ],
   "source": [
    "import math\n",
    "dir (math)\n",
    "help (math)"
   ]
  },
  {
   "cell_type": "code",
   "execution_count": 17,
   "metadata": {},
   "outputs": [
    {
     "name": "stdout",
     "output_type": "stream",
     "text": [
      "Enter an angle: 0.4\n",
      "The angle in sin is:  0.3894183423086505\n",
      "The angle in cos is:  0.9210609940028851\n",
      "The angle in tan is:  0.4227932187381618\n"
     ]
    }
   ],
   "source": [
    "from math import sin, cos, tan\n",
    "angle = eval (input(\"Enter an angle: \"))\n",
    "print (\"The angle in sin is: \", sin(angle))\n",
    "print (\"The angle in cos is: \", cos(angle))\n",
    "print (\"The angle in tan is: \", tan(angle))"
   ]
  },
  {
   "cell_type": "code",
   "execution_count": 18,
   "metadata": {},
   "outputs": [
    {
     "name": "stdout",
     "output_type": "stream",
     "text": [
      "Enter an angle in degree: 30\n",
      "The angle in sin is:  0.49999999999999994\n"
     ]
    }
   ],
   "source": [
    "from math import sin, cos, tan, pi\n",
    "angle = eval (input(\"Enter an angle in degree: \"))\n",
    "angr = angle* (pi/180)\n",
    "print (\"The angle in sin is: \", sin(angr))"
   ]
  },
  {
   "cell_type": "code",
   "execution_count": 19,
   "metadata": {},
   "outputs": [
    {
     "name": "stdout",
     "output_type": "stream",
     "text": [
      "0 --- 0.0 1.0\n",
      "15 --- 0.2588 0.9659\n",
      "30 --- 0.5 0.866\n",
      "45 --- 0.7071 0.7071\n",
      "60 --- 0.866 0.5\n",
      "75 --- 0.9659 0.2588\n",
      "90 --- 1.0 0.0\n",
      "105 --- 0.9659 -0.2588\n",
      "120 --- 0.866 -0.5\n",
      "135 --- 0.7071 -0.7071\n",
      "150 --- 0.5 -0.866\n",
      "165 --- 0.2588 -0.9659\n",
      "180 --- 0.0 -1.0\n",
      "195 --- -0.2588 -0.9659\n",
      "210 --- -0.5 -0.866\n",
      "225 --- -0.7071 -0.7071\n",
      "240 --- -0.866 -0.5\n",
      "255 --- -0.9659 -0.2588\n",
      "270 --- -1.0 -0.0\n",
      "285 --- -0.9659 0.2588\n",
      "300 --- -0.866 0.5\n",
      "315 --- -0.7071 0.7071\n",
      "330 --- -0.5 0.866\n",
      "345 --- -0.2588 0.9659\n"
     ]
    }
   ],
   "source": [
    "from math import sin, cos, pi\n",
    "for i in range (0, 346, 15):\n",
    "    angleinrad = i * ( pi/180 )\n",
    "    print (i, \"---\", round (sin(angleinrad), 4), round(cos(angleinrad),4), sep = \" \" )\n",
    "   "
   ]
  },
  {
   "cell_type": "code",
   "execution_count": 20,
   "metadata": {},
   "outputs": [
    {
     "name": "stdout",
     "output_type": "stream",
     "text": [
      "Please enter the year you want to find the date of easter for: 2020\n",
      "17.079999999999984 2.4799999999999045\n",
      "The easter is in either March  41.55999999999989 or in April 10.559999999999889\n"
     ]
    }
   ],
   "source": [
    "# to find the date of easter according to the year\n",
    "Y = eval ( input (\"Please enter the year you want to find the date of easter for: \"))\n",
    "C = Y // 100\n",
    "m = (15 + C - (C/4) - ((8*C + 13) / 25)) % 30\n",
    "n = (4 + C - (C/4)) % 4\n",
    "a = Y % 4\n",
    "b = Y % 7\n",
    "c = Y % 19\n",
    "d = (19*c + m) % 30\n",
    "e = (2*a + 4*b + 6*d + n) % 7\n",
    "print (d,e)\n",
    "if d == 29 and e == 6:\n",
    "    print (\"The easter is on April 19\")\n",
    "\n",
    "elif  d == 28 and e == 6 and m == (2,5,10,13,16,21,24,39):\n",
    "    print(\"The easter is on April 18\")\n",
    "\n",
    "else:\n",
    "    print (\"The easter is in either March \",22+d+e, \"or in April\", d+e-9 )\n",
    "\n"
   ]
  },
  {
   "cell_type": "code",
   "execution_count": 35,
   "metadata": {},
   "outputs": [
    {
     "name": "stdout",
     "output_type": "stream",
     "text": [
      "Please enter a year: 2020\n",
      "Total number of leap years from 1600 are:  3030\n"
     ]
    }
   ],
   "source": [
    "syear = int (input (\"Please enter a year: \"))\n",
    "\n",
    "l == 0\n",
    "\n",
    "for i in range (1600, syear +  1):\n",
    "        if i % 4 == 0 or i % 400 == 0:\n",
    "                l = l + 1\n",
    "print (\"Total number of leap years from 1600 are: \", l)"
   ]
  },
  {
   "cell_type": "code",
   "execution_count": 40,
   "metadata": {},
   "outputs": [
    {
     "name": "stdout",
     "output_type": "stream",
     "text": [
      "Please enter the exact number in cents76\n",
      "The change in exacr dollars is:  3  quarters 0  dimes 0  nickels 1 pennies\n"
     ]
    }
   ],
   "source": [
    "change = int (input (\"Please enter the exact number in cents: \"))\n",
    "\n",
    "quarter = change // 25\n",
    "rem = change % 25 \n",
    "dime = rem // 10\n",
    "rem = rem % 10\n",
    "nickel = rem // 5\n",
    "rem = rem % 5\n",
    "print (\"The change in exacr dollars is: \", quarter, \" quarters\", dime, \" dimes\", nickel, \" nickels\", rem, \"pennies\") "
   ]
  },
  {
   "cell_type": "code",
   "execution_count": 46,
   "metadata": {},
   "outputs": [
    {
     "name": "stdout",
     "output_type": "stream",
     "text": [
      "Please enter the height of the rectangle: 5\n",
      "Please enter the width of the rectangle: 5\n",
      "0   0   0   0   0   0   0   0   0   0   0   0   0   0   0   0   0   0   0   0   0   0   0   0   0   1   1   1   1   1   1   1   1   1   1   1   1   1   1   1   1   1   1   1   1   1   1   1   1   1   2   2   2   2   2   2   2   2   2   2   2   2   2   2   2   2   2   2   2   2   2   2   2   2   2   3   3   3   3   3   3   3   3   3   3   3   3   3   3   3   3   3   3   3   3   3   3   3   3   3   4   4   4   4   4   4   4   4   4   4   4   4   4   4   4   4   4   4   4   4   4   4   4   4   4   5   5   5   5   5   5   5   5   5   5   5   5   5   5   5   5   5   5   5   5   5   5   5   5   5   6   6   6   6   6   6   6   6   6   6   6   6   6   6   6   6   6   6   6   6   6   6   6   6   6   7   7   7   7   7   7   7   7   7   7   7   7   7   7   7   7   7   7   7   7   7   7   7   7   7   8   8   8   8   8   8   8   8   8   8   8   8   8   8   8   8   8   8   8   8   8   8   8   8   8   9   9   9   9   9   9   9   9   9   9   9   9   9   9   9   9   9   9   9   9   9   9   9   9   9   "
     ]
    }
   ],
   "source": [
    "h = eval(input(\"Please enter the height of the rectangle: \"))\n",
    "w = eval(input(\"Please enter the width of the rectangle: \"))\n",
    "for k in range (0,10):\n",
    "    for j in range (w):\n",
    "        for i in range (h):\n",
    "            print (k, end = \"   \")\n",
    "        \n",
    "    "
   ]
  },
  {
   "cell_type": "code",
   "execution_count": null,
   "metadata": {},
   "outputs": [],
   "source": []
  }
 ],
 "metadata": {
  "kernelspec": {
   "display_name": "Python 3",
   "language": "python",
   "name": "python3"
  },
  "language_info": {
   "codemirror_mode": {
    "name": "ipython",
    "version": 3
   },
   "file_extension": ".py",
   "mimetype": "text/x-python",
   "name": "python",
   "nbconvert_exporter": "python",
   "pygments_lexer": "ipython3",
   "version": "3.7.6"
  }
 },
 "nbformat": 4,
 "nbformat_minor": 4
}
